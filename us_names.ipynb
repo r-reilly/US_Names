{
  "cells": [
    {
      "metadata": {
        "_uuid": "deb027da6cf9f6d69855ca81ef7858185b14e1b7",
        "_execution_state": "idle",
        "trusted": true,
        "_kg_hide-input": true,
        "_kg_hide-output": true
      },
      "cell_type": "code",
      "source": "## Importing packages\nlibrary(tidyverse)\nlibrary(magrittr)\nlibrary(ggplot2)",
      "execution_count": null,
      "outputs": []
    },
    {
      "metadata": {
        "_uuid": "4aab20921e64180e44e240bec26ab8a3fd3a61b8"
      },
      "cell_type": "markdown",
      "source": "The following is an (ongoing) **exploratory analysis of baby names in the US** via the Social Security Admninistration, inspired by a collection of articles and videos over the years that have discussed the emergence of pink and blue as gendered colors, and how they switched at one point in time. Names are also gendered in the US, and I'm curious to know what names have moved in terms of gender domination over time. \n\n(Gender is encoded here as 'Male' and 'Female' though I acknowledge these words actually refer to biological distinctions and just two labels are not fully representative of the gender spectrum anyway)"
    },
    {
      "metadata": {
        "trusted": true,
        "_uuid": "415175f99e018f563358d8cae42c149f38487a5e",
        "_kg_hide-input": true,
        "_kg_hide-output": true
      },
      "cell_type": "code",
      "source": "# Read in data\nnames <- read_csv(\"../input/usa_names_agg.csv\", col_types = c(\"iccci\")) %>%\n  select(-1)",
      "execution_count": null,
      "outputs": []
    },
    {
      "metadata": {
        "trusted": true,
        "_uuid": "db2dcd9c93fad011741260f58478ac9985c713d7"
      },
      "cell_type": "code",
      "source": "names <- names %>% \n  mutate(gender = factor(gender, labels = c(\"Female\", \"Male\")))\nnames <- names %>% \n  mutate(decade = year %>% as.character %>% str_replace(\"\\\\d$\", \"0s\")) %>% \n  mutate(decade = factor(decade))",
      "execution_count": null,
      "outputs": []
    },
    {
      "metadata": {
        "trusted": true,
        "_uuid": "7a8adf4107c7c9ecf62a9e633e378275332f49ab"
      },
      "cell_type": "code",
      "source": "# Summarize the count by Decade\nnames_sum <- names %>% \n  group_by(decade, gender, name) %>% \n  summarise(count = sum(number)) %>% \n  ungroup()",
      "execution_count": null,
      "outputs": []
    },
    {
      "metadata": {
        "trusted": true,
        "_uuid": "da367408d19c9e4dc70f70b904ac020c1d85c5fd"
      },
      "cell_type": "code",
      "source": "# Explore the percentage and count of names by decade and gender for one particular example \nnames  %>% \ngroup_by(name, decade)   %>% \nmutate(perc = (number/sum(number))*100, count = sum(number))  %>%  \nungroup()  %>% \ngroup_by(gender, name, decade)  %>% \nsummarise(perc = sum(perc), count = sum(count)) %>%\nfilter(name == 'Frankie')  ",
      "execution_count": null,
      "outputs": []
    },
    {
      "metadata": {
        "trusted": true,
        "_uuid": "189f38b93dec086b0ebdc654e4e79f9576441f8d"
      },
      "cell_type": "code",
      "source": "# Visualize the percentage of US babies with a particular name over decades, by gender\nnames  %>% \ngroup_by(name, decade)   %>% \nmutate(perc = (number/sum(number))*100)  %>%  \nungroup()  %>% \ngroup_by(gender, name, decade)  %>% \nsummarise(perc = sum(perc))  %>%\nfilter(name == 'Frankie')    %>% \nggplot(aes(decade, perc, colour = factor(gender), group = gender)) +\ngeom_point() +\ngeom_line() + \nlabs(colour = \"Gender\", x = \"Decade\", y = \"%\", title = \"% of US Birth Names: Frankie\")",
      "execution_count": null,
      "outputs": []
    }
  ],
  "metadata": {
    "kernelspec": {
      "display_name": "R",
      "language": "R",
      "name": "ir"
    },
    "language_info": {
      "mimetype": "text/x-r-source",
      "name": "R",
      "pygments_lexer": "r",
      "version": "3.4.2",
      "file_extension": ".r",
      "codemirror_mode": "r"
    }
  },
  "nbformat": 4,
  "nbformat_minor": 1
}